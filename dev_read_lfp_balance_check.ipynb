{
  "nbformat": 4,
  "nbformat_minor": 0,
  "metadata": {
    "colab": {
      "provenance": [],
      "authorship_tag": "ABX9TyPZobOE/WuA9FcyTWsG7DQT",
      "include_colab_link": true
    },
    "kernelspec": {
      "name": "python3",
      "display_name": "Python 3"
    },
    "language_info": {
      "name": "python"
    }
  },
  "cells": [
    {
      "cell_type": "markdown",
      "metadata": {
        "id": "view-in-github",
        "colab_type": "text"
      },
      "source": [
        "<a href=\"https://colab.research.google.com/github/ArnaudOlt/dissertation_pybamm/blob/main/dev_read_lfp_balance_check.ipynb\" target=\"_parent\"><img src=\"https://colab.research.google.com/assets/colab-badge.svg\" alt=\"Open In Colab\"/></a>"
      ]
    },
    {
      "cell_type": "code",
      "execution_count": null,
      "metadata": {
        "colab": {
          "base_uri": "https://localhost:8080/"
        },
        "id": "_wsGbPiI3ePP",
        "outputId": "c952f3e4-a5c7-4864-ca7f-3001347bcc12"
      },
      "outputs": [
        {
          "output_type": "stream",
          "name": "stdout",
          "text": [
            "Collecting pybtex\n",
            "  Downloading pybtex-0.24.0-py2.py3-none-any.whl (561 kB)\n",
            "\u001b[?25l     \u001b[90m━━━━━━━━━━━━━━━━━━━━━━━━━━━━━━━━━━━━━━━━\u001b[0m \u001b[32m0.0/561.4 kB\u001b[0m \u001b[31m?\u001b[0m eta \u001b[36m-:--:--\u001b[0m\r\u001b[2K     \u001b[91m━━━━━\u001b[0m\u001b[91m╸\u001b[0m\u001b[90m━━━━━━━━━━━━━━━━━━━━━━━━━━━━━━━━━━\u001b[0m \u001b[32m81.9/561.4 kB\u001b[0m \u001b[31m2.5 MB/s\u001b[0m eta \u001b[36m0:00:01\u001b[0m\r\u001b[2K     \u001b[91m━━━━━━━━━━━━━━━━━━━━━━━━━━━━━━━━━━━━━\u001b[0m\u001b[91m╸\u001b[0m\u001b[90m━\u001b[0m \u001b[32m542.7/561.4 kB\u001b[0m \u001b[31m8.1 MB/s\u001b[0m eta \u001b[36m0:00:01\u001b[0m\r\u001b[2K     \u001b[90m━━━━━━━━━━━━━━━━━━━━━━━━━━━━━━━━━━━━━━━\u001b[0m \u001b[32m561.4/561.4 kB\u001b[0m \u001b[31m7.0 MB/s\u001b[0m eta \u001b[36m0:00:00\u001b[0m\n",
            "\u001b[?25hRequirement already satisfied: PyYAML>=3.01 in /usr/local/lib/python3.10/dist-packages (from pybtex) (6.0.1)\n",
            "Collecting latexcodec>=1.0.4 (from pybtex)\n",
            "  Downloading latexcodec-2.0.1-py2.py3-none-any.whl (18 kB)\n",
            "Requirement already satisfied: six in /usr/local/lib/python3.10/dist-packages (from pybtex) (1.16.0)\n",
            "Installing collected packages: latexcodec, pybtex\n",
            "Successfully installed latexcodec-2.0.1 pybtex-0.24.0\n",
            "Collecting anytree\n",
            "  Downloading anytree-2.9.0-py3-none-any.whl (38 kB)\n",
            "Requirement already satisfied: six in /usr/local/lib/python3.10/dist-packages (from anytree) (1.16.0)\n",
            "Installing collected packages: anytree\n",
            "Successfully installed anytree-2.9.0\n",
            "Requirement already satisfied: autograd in /usr/local/lib/python3.10/dist-packages (1.6.2)\n",
            "Requirement already satisfied: numpy>=1.12 in /usr/local/lib/python3.10/dist-packages (from autograd) (1.23.5)\n",
            "Requirement already satisfied: future>=0.15.2 in /usr/local/lib/python3.10/dist-packages (from autograd) (0.18.3)\n",
            "Collecting bpx\n",
            "  Downloading bpx-0.3.1-py2.py3-none-any.whl (8.4 kB)\n",
            "Requirement already satisfied: pydantic<2 in /usr/local/lib/python3.10/dist-packages (from bpx) (1.10.12)\n",
            "Requirement already satisfied: pyparsing in /usr/local/lib/python3.10/dist-packages (from bpx) (3.1.1)\n",
            "Requirement already satisfied: typing-extensions>=4.2.0 in /usr/local/lib/python3.10/dist-packages (from pydantic<2->bpx) (4.7.1)\n",
            "Installing collected packages: bpx\n",
            "Successfully installed bpx-0.3.1\n",
            "Requirement already satisfied: casadi in /usr/local/lib/python3.10/dist-packages (3.6.3)\n",
            "Requirement already satisfied: numpy in /usr/local/lib/python3.10/dist-packages (from casadi) (1.23.5)\n",
            "Requirement already satisfied: imageio in /usr/local/lib/python3.10/dist-packages (2.25.1)\n",
            "Requirement already satisfied: numpy in /usr/local/lib/python3.10/dist-packages (from imageio) (1.23.5)\n",
            "Requirement already satisfied: pillow>=8.3.2 in /usr/local/lib/python3.10/dist-packages (from imageio) (9.4.0)\n",
            "Requirement already satisfied: importlib-metadata in /usr/lib/python3/dist-packages (4.6.4)\n",
            "Requirement already satisfied: matplotlib in /usr/local/lib/python3.10/dist-packages (3.7.1)\n",
            "Requirement already satisfied: contourpy>=1.0.1 in /usr/local/lib/python3.10/dist-packages (from matplotlib) (1.1.0)\n",
            "Requirement already satisfied: cycler>=0.10 in /usr/local/lib/python3.10/dist-packages (from matplotlib) (0.11.0)\n",
            "Requirement already satisfied: fonttools>=4.22.0 in /usr/local/lib/python3.10/dist-packages (from matplotlib) (4.42.0)\n",
            "Requirement already satisfied: kiwisolver>=1.0.1 in /usr/local/lib/python3.10/dist-packages (from matplotlib) (1.4.4)\n",
            "Requirement already satisfied: numpy>=1.20 in /usr/local/lib/python3.10/dist-packages (from matplotlib) (1.23.5)\n",
            "Requirement already satisfied: packaging>=20.0 in /usr/local/lib/python3.10/dist-packages (from matplotlib) (23.1)\n",
            "Requirement already satisfied: pillow>=6.2.0 in /usr/local/lib/python3.10/dist-packages (from matplotlib) (9.4.0)\n",
            "Requirement already satisfied: pyparsing>=2.3.1 in /usr/local/lib/python3.10/dist-packages (from matplotlib) (3.1.1)\n",
            "Requirement already satisfied: python-dateutil>=2.7 in /usr/local/lib/python3.10/dist-packages (from matplotlib) (2.8.2)\n",
            "Requirement already satisfied: six>=1.5 in /usr/local/lib/python3.10/dist-packages (from python-dateutil>=2.7->matplotlib) (1.16.0)\n",
            "Requirement already satisfied: numpy in /usr/local/lib/python3.10/dist-packages (1.23.5)\n",
            "Requirement already satisfied: pandas in /usr/local/lib/python3.10/dist-packages (1.5.3)\n",
            "Requirement already satisfied: python-dateutil>=2.8.1 in /usr/local/lib/python3.10/dist-packages (from pandas) (2.8.2)\n",
            "Requirement already satisfied: pytz>=2020.1 in /usr/local/lib/python3.10/dist-packages (from pandas) (2022.7.1)\n",
            "Requirement already satisfied: numpy>=1.21.0 in /usr/local/lib/python3.10/dist-packages (from pandas) (1.23.5)\n",
            "Requirement already satisfied: six>=1.5 in /usr/local/lib/python3.10/dist-packages (from python-dateutil>=2.8.1->pandas) (1.16.0)\n",
            "Collecting scikit-fem\n",
            "  Downloading scikit_fem-8.1.0-py3-none-any.whl (160 kB)\n",
            "\u001b[2K     \u001b[90m━━━━━━━━━━━━━━━━━━━━━━━━━━━━━━━━━━━━━━━\u001b[0m \u001b[32m160.1/160.1 kB\u001b[0m \u001b[31m3.3 MB/s\u001b[0m eta \u001b[36m0:00:00\u001b[0m\n",
            "\u001b[?25hRequirement already satisfied: numpy in /usr/local/lib/python3.10/dist-packages (from scikit-fem) (1.23.5)\n",
            "Requirement already satisfied: scipy in /usr/local/lib/python3.10/dist-packages (from scikit-fem) (1.10.1)\n",
            "Installing collected packages: scikit-fem\n",
            "Successfully installed scikit-fem-8.1.0\n",
            "Requirement already satisfied: scipy in /usr/local/lib/python3.10/dist-packages (1.10.1)\n",
            "Requirement already satisfied: numpy<1.27.0,>=1.19.5 in /usr/local/lib/python3.10/dist-packages (from scipy) (1.23.5)\n",
            "Requirement already satisfied: sympy in /usr/local/lib/python3.10/dist-packages (1.11.1)\n",
            "Requirement already satisfied: mpmath>=0.19 in /usr/local/lib/python3.10/dist-packages (from sympy) (1.3.0)\n",
            "Requirement already satisfied: tqdm in /usr/local/lib/python3.10/dist-packages (4.65.0)\n",
            "Requirement already satisfied: xarray in /usr/local/lib/python3.10/dist-packages (2022.12.0)\n",
            "Requirement already satisfied: numpy>=1.20 in /usr/local/lib/python3.10/dist-packages (from xarray) (1.23.5)\n",
            "Requirement already satisfied: pandas>=1.3 in /usr/local/lib/python3.10/dist-packages (from xarray) (1.5.3)\n",
            "Requirement already satisfied: packaging>=21.3 in /usr/local/lib/python3.10/dist-packages (from xarray) (23.1)\n",
            "Requirement already satisfied: python-dateutil>=2.8.1 in /usr/local/lib/python3.10/dist-packages (from pandas>=1.3->xarray) (2.8.2)\n",
            "Requirement already satisfied: pytz>=2020.1 in /usr/local/lib/python3.10/dist-packages (from pandas>=1.3->xarray) (2022.7.1)\n",
            "Requirement already satisfied: six>=1.5 in /usr/local/lib/python3.10/dist-packages (from python-dateutil>=2.8.1->pandas>=1.3->xarray) (1.16.0)\n",
            "Collecting git+https://github.com/pybamm-team/pybamm.git@develop\n",
            "  Cloning https://github.com/pybamm-team/pybamm.git (to revision develop) to /tmp/pip-req-build-c0dvq3j_\n",
            "  Running command git clone --filter=blob:none --quiet https://github.com/pybamm-team/pybamm.git /tmp/pip-req-build-c0dvq3j_\n",
            "  Resolved https://github.com/pybamm-team/pybamm.git to commit b6d4f3f09fae887d142e52913219595b11098c3d\n",
            "  Preparing metadata (setup.py) ... \u001b[?25l\u001b[?25hdone\n",
            "Requirement already satisfied: numpy>=1.16 in /usr/local/lib/python3.10/dist-packages (from pybamm==23.5) (1.23.5)\n",
            "Requirement already satisfied: scipy>=1.3 in /usr/local/lib/python3.10/dist-packages (from pybamm==23.5) (1.10.1)\n",
            "Requirement already satisfied: casadi>=3.6.0 in /usr/local/lib/python3.10/dist-packages (from pybamm==23.5) (3.6.3)\n",
            "Requirement already satisfied: xarray in /usr/local/lib/python3.10/dist-packages (from pybamm==23.5) (2022.12.0)\n",
            "Requirement already satisfied: pandas>=1.3 in /usr/local/lib/python3.10/dist-packages (from xarray->pybamm==23.5) (1.5.3)\n",
            "Requirement already satisfied: packaging>=21.3 in /usr/local/lib/python3.10/dist-packages (from xarray->pybamm==23.5) (23.1)\n",
            "Requirement already satisfied: python-dateutil>=2.8.1 in /usr/local/lib/python3.10/dist-packages (from pandas>=1.3->xarray->pybamm==23.5) (2.8.2)\n",
            "Requirement already satisfied: pytz>=2020.1 in /usr/local/lib/python3.10/dist-packages (from pandas>=1.3->xarray->pybamm==23.5) (2022.7.1)\n",
            "Requirement already satisfied: six>=1.5 in /usr/local/lib/python3.10/dist-packages (from python-dateutil>=2.8.1->pandas>=1.3->xarray->pybamm==23.5) (1.16.0)\n"
          ]
        }
      ],
      "source": [
        "%pip install pybtex\n",
        "%pip install anytree\n",
        "%pip install autograd\n",
        "%pip install bpx\n",
        "%pip install casadi\n",
        "%pip install imageio\n",
        "%pip install importlib-metadata\n",
        "%pip install matplotlib\n",
        "%pip install numpy\n",
        "%pip install pandas\n",
        "%pip install scikit-fem\n",
        "%pip install scipy\n",
        "%pip install sympy\n",
        "%pip install tqdm\n",
        "%pip install xarray\n",
        "%pip install git+https://github.com/pybamm-team/pybamm.git@develop"
      ]
    },
    {
      "cell_type": "code",
      "source": [
        "import pybamm\n",
        "import numpy as np"
      ],
      "metadata": {
        "id": "DMdKf9Xp3lwv"
      },
      "execution_count": null,
      "outputs": []
    },
    {
      "cell_type": "code",
      "source": [
        "model = pybamm.lithium_ion.DFN(\n",
        "    {\n",
        "        #\"SEI\": \"solvent-diffusion limited\",\n",
        "        #\"SEI porosity change\": \"true\",\n",
        "        \"lithium plating\": \"partially reversible\",\n",
        "        \"lithium plating porosity change\": \"true\",  # alias for \"SEI porosity change\"\n",
        "        #\"particle mechanics\": (\"swelling and cracking\", \"swelling only\"),\n",
        "        #\"SEI on cracks\": \"true\",\n",
        "        #\"loss of active material\": \"stress-driven\",\n",
        "        #\"calculate discharge energy\": \"true\",  # for compatibility with older PyBaMM versions\n",
        "    }\n",
        ")"
      ],
      "metadata": {
        "id": "nH9K7s923vL7"
      },
      "execution_count": null,
      "outputs": []
    },
    {
      "cell_type": "code",
      "source": [
        "parameter_values = pybamm.ParameterValues(\"OKane2022\")"
      ],
      "metadata": {
        "id": "pK8MUayU36n8"
      },
      "execution_count": null,
      "outputs": []
    },
    {
      "cell_type": "code",
      "source": [
        "def LFP_ocp_Afshar2017(sto):\n",
        "    \"\"\"\n",
        "    Open-circuit potential for LFP. Prada2013 doesn't give an OCP for LFP, so we use\n",
        "    Afshar2017 instead.\n",
        "\n",
        "    References\n",
        "    ----------\n",
        "    .. [1] Afshar, S., Morris, K., & Khajepour, A. (2017). Efficient electrochemical\n",
        "    model for lithium-ion cells. arXiv preprint arXiv:1709.03970.\n",
        "\n",
        "    Parameters\n",
        "    ----------\n",
        "    sto : :class:`pybamm.Symbol`\n",
        "       Stochiometry of material (li-fraction)\n",
        "\n",
        "    \"\"\"\n",
        "\n",
        "    c1 = -150 * sto\n",
        "    c2 = -30 * (1 - sto)\n",
        "    k = 3.4077 - 0.020269 * sto + 0.5 * np.exp(c1) - 0.9 * np.exp(c2)\n",
        "\n",
        "    return k\n",
        "\n",
        "def LFP_electrolyte_exchange_current_density_kashkooli2017(c_e, c_s_surf, c_s_max, T):\n",
        "    \"\"\"\n",
        "    Exchange-current density for Butler-Volmer reactions between LFP and electrolyte\n",
        "\n",
        "    References\n",
        "    ----------\n",
        "    .. [1] Kashkooli, A. G., Amirfazli, A., Farhad, S., Lee, D. U., Felicelli, S., Park,\n",
        "    H. W., ... & Chen, Z. (2017). Representative volume element model of lithium-ion\n",
        "    battery electrodes based on X-ray nano-tomography. Journal of Applied\n",
        "    Electrochemistry, 47(3), 281-293.\n",
        "\n",
        "    Parameters\n",
        "    ----------\n",
        "    c_e : :class:`pybamm.Symbol`\n",
        "        Electrolyte concentration [mol.m-3]\n",
        "    c_s_surf : :class:`pybamm.Symbol`\n",
        "        Particle concentration [mol.m-3]\n",
        "    c_s_max : :class:`pybamm.Symbol`\n",
        "        Maximum particle concentration [mol.m-3]\n",
        "    T : :class:`pybamm.Symbol`\n",
        "        Temperature [K]\n",
        "\n",
        "    Returns\n",
        "    -------\n",
        "    :class:`pybamm.Symbol`\n",
        "        Exchange-current density [A.m-2]\n",
        "    \"\"\"\n",
        "\n",
        "    m_ref = 6 * 10 ** (-7)  # (A/m2)(m3/mol)**1.5 - includes ref concentrations\n",
        "    E_r = 39570\n",
        "    arrhenius = np.exp(E_r / pybamm.constants.R * (1 / 298.15 - 1 / T))\n",
        "\n",
        "    return (\n",
        "        m_ref * arrhenius * c_e**0.5 * c_s_surf**0.5 * (c_s_max - c_s_surf) ** 0.5\n",
        "    )\n",
        "\n",
        "# positive electrode\n",
        "parameter_values.update({\"Positive electrode conductivity [S.m-1]\": 0.33795074}) # prada2013\n",
        "parameter_values.update({\"Maximum concentration in positive electrode [mol.m-3]\": 22806.0}) # prada2013\n",
        "parameter_values.update({\"Positive electrode diffusivity [m2.s-1]\":  5.9e-18}) # prada2013\n",
        "parameter_values.update({\"Positive electrode OCP [V]\": LFP_ocp_Afshar2017}, check_already_exists=False) # prada2013\n",
        "parameter_values.update({\"Positive electrode porosity\": 0.426}) # prada2023\n",
        "parameter_values.update({\"Positive electrode active material volume fraction\": 0.374}) # prada2013\n",
        "parameter_values.update({\"Positive particle radius [m]\": 5e-08}) # prada2013\n",
        "parameter_values.update({\"Positive electrode Bruggeman coefficient (electrode)\": 1.5})\n",
        "parameter_values.update({\"Positive electrode Bruggeman coefficient (electrolyte)\": 1.5})\n",
        "parameter_values.update({\"Positive electrode charge transfer coefficient\": 0.5})\n",
        "parameter_values.update({\"Positive electrode double-layer capacity [F.m-2]\": 0.2})\n",
        "parameter_values.update({\"Positive electrode exchange-current density [A.m-2]\": LFP_electrolyte_exchange_current_density_kashkooli2017}, check_already_exists=False) # prada 2013\n",
        "parameter_values.update({\"Positive electrode OCP entropic change [V.K-1]\": 0}) # prada2013\n"
      ],
      "metadata": {
        "id": "BHA233Cw3-ee"
      },
      "execution_count": null,
      "outputs": []
    },
    {
      "cell_type": "code",
      "source": [
        "pybamm.set_logging_level(\"NOTICE\")\n",
        "cycle_number = 50\n",
        "exp = pybamm.Experiment(\n",
        "    [\"Hold at 4.2 V until C/100\", #change at C/20 effects speed\n",
        "    \"Rest for 4 hours\",\n",
        "    \"Discharge at 0.1C until 2.5 V\",  # initial capacity check\n",
        "    \"Charge at 0.3C until 4.2 V\",\n",
        "    \"Hold at 4.2 V until C/100\",]\n",
        "    + [(\"Discharge at 1C until 2.5 V\",  # ageing cycles\n",
        "    \"Charge at 0.3C until 4.2 V\",\n",
        "    \"Hold at 4.2 V until C/100\",)] * cycle_number\n",
        "    + [\"Discharge at 0.1C until 2.5 V\"],  # final capacity check\n",
        "    period=\"5 minutes\"\n",
        ")\n"
      ],
      "metadata": {
        "id": "IFyFIUfV4VYe"
      },
      "execution_count": null,
      "outputs": []
    },
    {
      "cell_type": "code",
      "source": [
        "sim = pybamm.Simulation(model, parameter_values=parameter_values, experiment=exp)\n",
        "\n",
        "# safe solver and reduced dt_max\n",
        "safe_solver = pybamm.CasadiSolver(mode=\"safe\", dt_max=6)\n",
        "\n",
        "# solve\n",
        "sol = sim.solve(solver=safe_solver, calc_esoh=False)\n"
      ],
      "metadata": {
        "colab": {
          "base_uri": "https://localhost:8080/"
        },
        "id": "lIHqtbMy4YEP",
        "outputId": "97f1593a-e6b6-4d92-c3d7-8bd62c106069"
      },
      "execution_count": null,
      "outputs": [
        {
          "output_type": "stream",
          "name": "stderr",
          "text": [
            "2023-08-09 10:40:36.265 - [NOTICE] callbacks.on_cycle_start(172): Cycle 1/56 (124.093 us elapsed) --------------------\n",
            "NOTICE:pybamm.logger:Cycle 1/56 (124.093 us elapsed) --------------------\n",
            "2023-08-09 10:40:36.269 - [NOTICE] callbacks.on_step_start(180): Cycle 1/56, step 1/1: Hold at 4.2 V until C/100\n",
            "NOTICE:pybamm.logger:Cycle 1/56, step 1/1: Hold at 4.2 V until C/100\n",
            "2023-08-09 10:40:38.286 - [NOTICE] callbacks.on_cycle_start(172): Cycle 2/56 (2.022 s elapsed) --------------------\n",
            "NOTICE:pybamm.logger:Cycle 2/56 (2.022 s elapsed) --------------------\n",
            "2023-08-09 10:40:38.291 - [NOTICE] callbacks.on_step_start(180): Cycle 2/56, step 1/1: Rest for 4 hours\n",
            "NOTICE:pybamm.logger:Cycle 2/56, step 1/1: Rest for 4 hours\n",
            "The linesearch algorithm failed with too small a step.\n",
            "2023-08-09 10:40:40.161 - [NOTICE] callbacks.on_cycle_start(172): Cycle 3/56 (3.896 s elapsed) --------------------\n",
            "NOTICE:pybamm.logger:Cycle 3/56 (3.896 s elapsed) --------------------\n",
            "2023-08-09 10:40:40.163 - [NOTICE] callbacks.on_step_start(180): Cycle 3/56, step 1/1: Discharge at 0.1C until 2.5 V\n",
            "NOTICE:pybamm.logger:Cycle 3/56, step 1/1: Discharge at 0.1C until 2.5 V\n",
            "2023-08-09 10:40:41.016 - [NOTICE] callbacks.on_cycle_start(172): Cycle 4/56 (4.751 s elapsed) --------------------\n",
            "NOTICE:pybamm.logger:Cycle 4/56 (4.751 s elapsed) --------------------\n",
            "2023-08-09 10:40:41.019 - [NOTICE] callbacks.on_step_start(180): Cycle 4/56, step 1/1: Charge at 0.3C until 4.2 V\n",
            "NOTICE:pybamm.logger:Cycle 4/56, step 1/1: Charge at 0.3C until 4.2 V\n",
            "The linesearch algorithm failed with too small a step.\n",
            "The linesearch algorithm failed with too small a step.\n",
            "The linesearch algorithm failed with too small a step.\n",
            "At t = 0.453042 and h = 2.2942e-14, the corrector convergence failed repeatedly or with |h| = hmin.\n",
            "At t = 0.453026 and h = 3.59645e-15, the corrector convergence failed repeatedly or with |h| = hmin.\n",
            "At t = 0.453042 and h = 1.60478e-16, the corrector convergence failed repeatedly or with |h| = hmin.\n",
            "2023-08-09 10:40:44.795 - [ERROR] callbacks.on_experiment_error(224): Simulation error: Maximum number of decreased steps occurred at t=24562.887881422965 (final SolverError: 'Error in Function::call for 'F' [IdasInterface] at .../casadi/core/function.cpp:1401:\n",
            "Error in Function::call for 'F' [IdasInterface] at .../casadi/core/function.cpp:330:\n",
            ".../casadi/interfaces/sundials/idas_interface.cpp:596: IDASolve returned \"IDA_CONV_FAIL\". Consult IDAS documentation.'). For a full solution try reducing dt_max (currently, dt_max=9.375) and/or reducing the size of the time steps or period of the experiment. Set `return_solution_if_failed_early=True` to return the solution object up to the point where failure occured.\n",
            "ERROR:pybamm.logger:Simulation error: Maximum number of decreased steps occurred at t=24562.887881422965 (final SolverError: 'Error in Function::call for 'F' [IdasInterface] at .../casadi/core/function.cpp:1401:\n",
            "Error in Function::call for 'F' [IdasInterface] at .../casadi/core/function.cpp:330:\n",
            ".../casadi/interfaces/sundials/idas_interface.cpp:596: IDASolve returned \"IDA_CONV_FAIL\". Consult IDAS documentation.'). For a full solution try reducing dt_max (currently, dt_max=9.375) and/or reducing the size of the time steps or period of the experiment. Set `return_solution_if_failed_early=True` to return the solution object up to the point where failure occured.\n",
            "2023-08-09 10:40:44.805 - [NOTICE] callbacks.on_experiment_end(220): Finish experiment simulation, took 8.540 s\n",
            "NOTICE:pybamm.logger:Finish experiment simulation, took 8.540 s\n"
          ]
        }
      ]
    },
    {
      "cell_type": "code",
      "source": [
        "git commit -m \"first commit\""
      ],
      "metadata": {
        "id": "G_wKja-L4Z99",
        "colab": {
          "base_uri": "https://localhost:8080/",
          "height": 143
        },
        "outputId": "e944de9b-44c7-4dc8-f890-a76d32c4d526"
      },
      "execution_count": 12,
      "outputs": [
        {
          "output_type": "error",
          "ename": "SyntaxError",
          "evalue": "ignored",
          "traceback": [
            "\u001b[0;36m  File \u001b[0;32m\"<ipython-input-12-6cbe2cc1d48c>\"\u001b[0;36m, line \u001b[0;32m1\u001b[0m\n\u001b[0;31m    git commit -m \"first commit\"\u001b[0m\n\u001b[0m        ^\u001b[0m\n\u001b[0;31mSyntaxError\u001b[0m\u001b[0;31m:\u001b[0m invalid syntax\n"
          ]
        }
      ]
    },
    {
      "cell_type": "code",
      "source": [],
      "metadata": {
        "id": "WjcBXlil8SmK"
      },
      "execution_count": null,
      "outputs": []
    }
  ]
}