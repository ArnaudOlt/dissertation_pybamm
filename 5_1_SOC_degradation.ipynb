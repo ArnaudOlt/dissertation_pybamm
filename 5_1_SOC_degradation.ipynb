{
  "nbformat": 4,
  "nbformat_minor": 0,
  "metadata": {
    "colab": {
      "provenance": [],
      "authorship_tag": "ABX9TyOHM9KcDPeqCG7rURMFzr8M",
      "include_colab_link": true
    },
    "kernelspec": {
      "name": "python3",
      "display_name": "Python 3"
    },
    "language_info": {
      "name": "python"
    }
  },
  "cells": [
    {
      "cell_type": "markdown",
      "metadata": {
        "id": "view-in-github",
        "colab_type": "text"
      },
      "source": [
        "<a href=\"https://colab.research.google.com/github/ArnaudOlt/dissertation_pybamm/blob/main/5_1_SOC_degradation.ipynb\" target=\"_parent\"><img src=\"https://colab.research.google.com/assets/colab-badge.svg\" alt=\"Open In Colab\"/></a>"
      ]
    },
    {
      "cell_type": "code",
      "execution_count": null,
      "metadata": {
        "id": "-wN5bz40_Ly1"
      },
      "outputs": [],
      "source": [
        "%pip install pybtex\n",
        "%pip install anytree\n",
        "%pip install autograd\n",
        "%pip install bpx\n",
        "%pip install casadi\n",
        "%pip install imageio\n",
        "%pip install importlib-metadata\n",
        "%pip install matplotlib\n",
        "%pip install numpy\n",
        "%pip install pandas\n",
        "%pip install scikit-fem\n",
        "%pip install scipy\n",
        "%pip install sympy\n",
        "%pip install tqdm\n",
        "%pip install xarray\n",
        "%pip install git+https://github.com/pybamm-team/pybamm.git@develop\n",
        "import pybamm\n",
        "import numpy as np\n",
        "import matplotlib.pyplot as plt"
      ]
    },
    {
      "cell_type": "code",
      "source": [
        "prada2013_params = pybamm.ParameterValues(\"Prada2013\")\n",
        "\n",
        "def plating_exchange_current_density_OKane2020(c_e, c_Li, T):\n",
        "    \"\"\"\n",
        "    Exchange-current density for Li plating reaction [A.m-2].\n",
        "    References\n",
        "    ----------\n",
        "    .. [1] O’Kane, Simon EJ, Ian D. Campbell, Mohamed WJ Marzook, Gregory J. Offer, and\n",
        "    Monica Marinescu. \"Physical origin of the differential voltage minimum associated\n",
        "    with lithium plating in Li-ion batteries.\" Journal of The Electrochemical Society\n",
        "    167, no. 9 (2020): 090540.\n",
        "    Parameters\n",
        "    ----------\n",
        "    c_e : :class:`pybamm.Symbol`\n",
        "        Electrolyte concentration [mol.m-3]\n",
        "    c_Li : :class:`pybamm.Symbol`\n",
        "        Plated lithium concentration [mol.m-3]\n",
        "    T : :class:`pybamm.Symbol`\n",
        "        Temperature [K]\n",
        "    Returns\n",
        "    -------\n",
        "    :class:`pybamm.Symbol`\n",
        "        Exchange-current density [A.m-2]\n",
        "    \"\"\"\n",
        "\n",
        "    k_plating = pybamm.Parameter(\"Lithium plating kinetic rate constant [m.s-1]\")\n",
        "\n",
        "    return pybamm.constants.F * k_plating * c_e\n",
        "\n",
        "\n",
        "def stripping_exchange_current_density_OKane2020(c_e, c_Li, T):\n",
        "    \"\"\"\n",
        "    Exchange-current density for Li stripping reaction [A.m-2].\n",
        "\n",
        "    References\n",
        "    ----------\n",
        "\n",
        "    .. [1] O’Kane, Simon EJ, Ian D. Campbell, Mohamed WJ Marzook, Gregory J. Offer, and\n",
        "    Monica Marinescu. \"Physical origin of the differential voltage minimum associated\n",
        "    with lithium plating in Li-ion batteries.\" Journal of The Electrochemical Society\n",
        "    167, no. 9 (2020): 090540.\n",
        "\n",
        "    Parameters\n",
        "    ----------\n",
        "\n",
        "    c_e : :class:`pybamm.Symbol`\n",
        "        Electrolyte concentration [mol.m-3]\n",
        "    c_Li : :class:`pybamm.Symbol`\n",
        "        Plated lithium concentration [mol.m-3]\n",
        "    T : :class:`pybamm.Symbol`\n",
        "        Temperature [K]\n",
        "\n",
        "    Returns\n",
        "    -------\n",
        "\n",
        "    :class:`pybamm.Symbol`\n",
        "        Exchange-current density [A.m-2]\n",
        "    \"\"\"\n",
        "\n",
        "    k_plating = pybamm.Parameter(\"Lithium plating kinetic rate constant [m.s-1]\")\n",
        "\n",
        "    return pybamm.constants.F * k_plating * c_Li\n",
        "\n",
        "def SEI_limited_dead_lithium_OKane2022(L_sei):\n",
        "    \"\"\"\n",
        "    Decay rate for dead lithium formation [s-1].\n",
        "    References\n",
        "    ----------\n",
        "    .. [1] Simon E. J. O'Kane, Weilong Ai, Ganesh Madabattula, Diega Alonso-Alvarez,\n",
        "    Robert Timms, Valentin Sulzer, Jaqueline Sophie Edge, Billy Wu, Gregory J. Offer\n",
        "    and Monica Marinescu. \"Lithium-ion battery degradation: how to model it.\"\n",
        "    Physical Chemistry: Chemical Physics 24, no. 13 (2022): 7909-7922.\n",
        "    Parameters\n",
        "    ----------\n",
        "    L_sei : :class:`pybamm.Symbol`\n",
        "        Total SEI thickness [m]\n",
        "    Returns\n",
        "    -------\n",
        "    :class:`pybamm.Symbol`\n",
        "        Dead lithium decay rate [s-1]\n",
        "    \"\"\"\n",
        "\n",
        "    gamma_0 = pybamm.Parameter(\"Dead lithium decay constant [s-1]\")\n",
        "    L_inner_0 = pybamm.Parameter(\"Initial inner SEI thickness [m]\")\n",
        "    L_outer_0 = pybamm.Parameter(\"Initial outer SEI thickness [m]\")\n",
        "    L_sei_0 = L_inner_0 + L_outer_0\n",
        "\n",
        "    gamma = gamma_0 * L_sei_0 / L_sei\n",
        "\n",
        "    return gamma\n",
        "\n",
        "\n",
        "\n",
        "prada2013_params.update({\n",
        "        #experiment\n",
        "        \"Lower voltage cut-off [V]\": 2.5,\n",
        "        \"Upper voltage cut-off [V]\": 3.65,\n",
        "        #cell\n",
        "        \"Negative current collector thickness [m]\": 0.000006,\n",
        "        \"Separator thickness [m]\": 0.000016,\n",
        "        \"Positive current collector thickness [m]\": 0.000013,\n",
        "        \"Electrode height [m]\": 0.325,\n",
        "        \"Electrode width [m]\": 21.6,\n",
        "        \"Cell cooling surface area [m2]\": 0.07338004,\n",
        "        \"Cell volume [m3]\": 0.00106398976,\n",
        "        \"Positive current collector density [kg.m-3]\": 2700,\n",
        "        \"Positive current collector thermal conductivity [W.m-1.K-1]\": 237,\n",
        "        \"Nominal cell capacity [A.h]\":100,\n",
        "        \"Current function [A]\":100,\n",
        "        \"Contact resistance [Ohm]\": 0.0004,\n",
        "        #electrolyte\n",
        "        \"Electrolyte conductivity [S.m-1]\": 0.97,\n",
        "\n",
        "\n",
        "\n",
        "        #Okane2022 Li plating\n",
        "        \"Lithium metal partial molar volume [m3.mol-1]\": 1.3e-05,\n",
        "        \"Lithium plating kinetic rate constant [m.s-1]\": 1e-09,\n",
        "        \"Exchange-current density for plating [A.m-2]\": plating_exchange_current_density_OKane2020,\n",
        "        \"Exchange-current density for stripping [A.m-2]\": stripping_exchange_current_density_OKane2020,\n",
        "        \"Initial plated lithium concentration [mol.m-3]\": 0.0,\n",
        "        \"Typical plated lithium concentration [mol.m-3]\": 1000.0,\n",
        "        \"Lithium plating transfer coefficient\": 0.65,\n",
        "        \"Dead lithium decay constant [s-1]\": 1e-06,\n",
        "        \"Dead lithium decay rate [s-1]\": SEI_limited_dead_lithium_OKane2022,\n",
        "        #Okane2022 SEI\n",
        "        \"Ratio of lithium moles to SEI moles\": 1.0,\n",
        "        \"Inner SEI reaction proportion\": 0.0,\n",
        "        \"Inner SEI partial molar volume [m3.mol-1]\": 9.585e-05,\n",
        "        \"Outer SEI partial molar volume [m3.mol-1]\": 9.585e-05,\n",
        "        \"SEI reaction exchange current density [A.m-2]\": 1.5e-07,\n",
        "        \"SEI resistivity [Ohm.m]\": 200000.0,\n",
        "        \"Outer SEI solvent diffusivity [m2.s-1]\": 2.5000000000000002e-22,\n",
        "        \"Bulk solvent concentration [mol.m-3]\": 2636.0,\n",
        "        \"Inner SEI open-circuit potential [V]\": 0.1,\n",
        "        \"Outer SEI open-circuit potential [V]\": 0.8,\n",
        "        \"Inner SEI electron conductivity [S.m-1]\": 8.95e-14,\n",
        "        \"Inner SEI lithium interstitial diffusivity [m2.s-1]\": 1e-20,\n",
        "        \"Lithium interstitial reference concentration [mol.m-3]\": 15.0,\n",
        "        \"Initial inner SEI thickness [m]\": 0.0,\n",
        "        \"Initial outer SEI thickness [m]\": 5e-09,\n",
        "        \"EC initial concentration in electrolyte [mol.m-3]\": 4541.0,\n",
        "        \"EC diffusivity [m2.s-1]\": 2e-18,\n",
        "        \"SEI kinetic rate constant [m.s-1]\": 1e-12,\n",
        "        \"SEI open-circuit potential [V]\": 0.4,\n",
        "        \"SEI growth activation energy [J.mol-1]\": 38000.0,\n",
        "        \"Negative electrode reaction-driven LAM factor [m3.mol-1]\": 0.0,\n",
        "        \"Positive electrode reaction-driven LAM factor [m3.mol-1]\": 0.0\n",
        "\n",
        "        }, check_already_exists=False)\n"
      ],
      "metadata": {
        "id": "H-dr-GAT_SAp"
      },
      "execution_count": null,
      "outputs": []
    },
    {
      "cell_type": "code",
      "source": [
        "# Scenario HIGH\n",
        "\n",
        "pybamm.set_logging_level(\"NOTICE\")\n",
        "\n",
        "T_ambs = [-5, 5, 15] #,15\n",
        "\n",
        "# Number of cycles per temperature setting\n",
        "N_cycles_per_param = 500\n",
        "# Done to reduce RAM usage, clears RAM after every slice of N cycles\n",
        "cycles_per_slice = 40\n",
        "\n",
        "# C-rates\n",
        "charging_C_rate = 0.08\n",
        "discharging_C_rate = 0.02\n",
        "\n",
        "# Which initial SoC's to cycle between\n",
        "lower_SoC = 0.7\n",
        "upper_SoC = 0.99\n",
        "\n",
        "# Setting submodel options:\n",
        "li_plt_options = {\n",
        "        \"SEI\": \"solvent-diffusion limited\",\n",
        "        \"SEI porosity change\": \"true\",\n",
        "        \"lithium plating\": \"partially reversible\",\n",
        "        \"lithium plating porosity change\": \"true\",  # alias for \"SEI porosity change\"\n",
        "    }\n",
        "\n",
        "\n"
      ],
      "metadata": {
        "id": "6V-imnq-_YEr"
      },
      "execution_count": null,
      "outputs": []
    },
    {
      "cell_type": "code",
      "source": [
        "solver = pybamm.CasadiSolver(atol = 1e-6, rtol = 1e-6, mode=\"safe\", dt_max=6)"
      ],
      "metadata": {
        "id": "kEYIo61u_cB-"
      },
      "execution_count": null,
      "outputs": []
    },
    {
      "cell_type": "code",
      "source": [
        "# Making the mesh finer to avoid Solver Errors\n",
        "var_pts = {\n",
        "    \"x_n\": 50,  # negative electrode\n",
        "    \"x_s\": 50,  # separator\n",
        "    \"x_p\": 50,  # positive electrode\n",
        "    \"r_n\": 50,  # negative particle\n",
        "    \"r_p\": 50,  # positive particle\n",
        "}"
      ],
      "metadata": {
        "id": "EFtDPnTo_cs8"
      },
      "execution_count": null,
      "outputs": []
    },
    {
      "cell_type": "code",
      "source": [
        "# Running an experiment to get the initial battery cell capacity\n",
        "\n",
        "mapping_experiment = pybamm.Experiment([\n",
        "    (\"Rest for 1 minute\")\n",
        "])"
      ],
      "metadata": {
        "id": "agXc82fx_ebZ"
      },
      "execution_count": null,
      "outputs": []
    },
    {
      "cell_type": "code",
      "source": [
        "# extracting initial capacity of a fresh LiB cell by solving\n",
        "# the model and reading the \"Capacity [A.h]\" summery variable\n",
        "SPMe = pybamm.lithium_ion.SPMe()\n",
        "mapping_sim = pybamm.Simulation(SPMe, parameter_values=prada2013_params, solver=solver, experiment=mapping_experiment, var_pts=var_pts)\n",
        "# Start at 0.3 SoC to avoid minimu/maximum voltage error\n",
        "mapping_sol = mapping_sim.solve(initial_soc=lower_SoC)\n",
        "mapping_solution = mapping_sim.solution\n",
        "initial_cap = mapping_solution.summary_variables[\"Capacity [A.h]\"][0] #Ah"
      ],
      "metadata": {
        "id": "7zBnrDmI_gf9"
      },
      "execution_count": null,
      "outputs": []
    },
    {
      "cell_type": "code",
      "source": [
        "def sim_N_cycles_individually(N_cycles, N_per_slice, solution, lower_SoC, upper_SoC, options, params, solver, var_pts, C_charge, C_discharge):\n",
        "  sim_stopped_progression = False\n",
        "  # cycling through every cycle one by one\n",
        "  for cycle_N in range(1, N_cycles + 1):\n",
        "    #optaining remaining capacity\n",
        "    remaining_cap = solution.summary_variables[\"Capacity [A.h]\"][-1]\n",
        "    initial_lower_Q = lower_SoC * remaining_cap # Ah\n",
        "    initial_upper_Q = upper_SoC * remaining_cap # Ah\n",
        "    charging_current = C_charge * remaining_cap # A\n",
        "    discharging_current = C_discharge * remaining_cap # A\n",
        "    charge_time = (initial_upper_Q - initial_lower_Q)/charging_current # h\n",
        "    discharge_time = (initial_upper_Q - initial_lower_Q)/discharging_current # h\n",
        "\n",
        "    # defining experiment, model and simulation\n",
        "    experiment_N_1 = pybamm.Experiment([\n",
        "        (f\"Charge at {charging_current} A for {charge_time} hours\",\n",
        "         f\"Discharge at {discharging_current} A for {discharge_time} hours\")\n",
        "    ])\n",
        "\n",
        "    SPMe = pybamm.lithium_ion.SPMe(options=options)\n",
        "    sim = pybamm.Simulation(SPMe, parameter_values=prada2013_params, solver = solver, experiment=experiment_N_1, var_pts = var_pts)\n",
        "\n",
        "    if cycle_N == 1:\n",
        "      # solving sim, first cycle starting on lower SoC\n",
        "      sol = sim.solve(initial_soc=lower_SoC)\n",
        "      try:\n",
        "        len(sol.cycles)\n",
        "      except AttributeError:\n",
        "        raise Exception (\"The first cycle did not complete\")\n",
        "    else:\n",
        "      # solving sim, startin on sol\n",
        "      sol = sim.solve(starting_solution = sol)\n",
        "    # obtaining infor for startin point for next cycle\n",
        "    solution = sim.solution\n",
        "\n",
        "    #check if last cycle were successfully solved\n",
        "    if len(sol.cycles) != cycle_N:\n",
        "      sim_stopped_progression = True\n",
        "\n",
        "\n",
        "    if cycle_N%N_per_slice == 0 or sim_stopped_progression == True:\n",
        "      if sim_stopped_progression:\n",
        "        return [solution,sol]\n",
        "  return [solution, sol]"
      ],
      "metadata": {
        "id": "lcGC7Mv9_lBw"
      },
      "execution_count": null,
      "outputs": []
    },
    {
      "cell_type": "code",
      "source": [
        "# SIM start, one for each parameter value\n",
        "solutions_70_99 = {}\n",
        "for T_amb in T_ambs:\n",
        "    #updating the param which is investigated\n",
        "    prada2013_params.update({\"Ambient temperature [K]\": 273.15 + T_amb})\n",
        "    conductSim = sim_N_cycles_individually(N_cycles = N_cycles_per_param, N_per_slice = cycles_per_slice, solution = mapping_solution, lower_SoC = lower_SoC, upper_SoC = upper_SoC, options = li_plt_options, params = prada2013_params, solver = solver, var_pts = var_pts, C_charge = charging_C_rate, C_discharge = discharging_C_rate)\n",
        "    solutions_70_99[T_amb] = conductSim\n",
        "    # Saving specified data\n",
        "    #save_data_to_csv(N_per_slice = cycles_per_slice, solution = conductSim[0], file_name_add_on = str(T_amb))\n",
        "    #solutions_70_99[T_amb][0].save(f\"solutions_70_99_solution_{T_amb}.pkl\")\n",
        "    solutions_70_99[T_amb][1].save(f\"solutions_70_99_lunana_C-rate_sol_{T_amb}.pkl\")"
      ],
      "metadata": {
        "id": "F-svfaHH_l2n"
      },
      "execution_count": null,
      "outputs": []
    },
    {
      "cell_type": "code",
      "source": [
        "import matplotlib.pyplot as plt\n",
        "\n",
        "x_axis_var_str = \"Cycle number\"\n",
        "y_axis_var_str = \"Measured capacity [A.h]\"\n",
        "\n",
        "fig, ax = plt.subplots(figsize=(8, 6))\n",
        "\n",
        "# Specify colors for each line\n",
        "line_colors = [\"steelblue\",\"lightblue\", \"coral\", \"coral\", \"cyan\", \"magenta\", \"yellow\"]\n",
        "\n",
        "for i, (temp, sol_list) in enumerate(solutions_70_99.items()):\n",
        "    sol = sol_list[1]  # Access the first element in the list\n",
        "    x_sol = sol.summary_variables[x_axis_var_str]\n",
        "    y_sol = sol.summary_variables[y_axis_var_str]\n",
        "\n",
        "    color = line_colors[i % len(line_colors)]  # Cycle through colors if needed\n",
        "\n",
        "    ax.plot(\n",
        "        x_sol,\n",
        "        ((y_sol[0] - y_sol) / y_sol[0]) * 100,\n",
        "        label=\"Temperature = \" + str(temp) + \" °C\",\n",
        "        color=color,\n",
        "    )\n",
        "\n",
        "ax.set_xlabel(x_axis_var_str)\n",
        "ax.set_ylabel(\"Capacity loss [%]\")\n",
        "ax.legend()\n",
        "plt.tight_layout()\n",
        "plt.show()\n"
      ],
      "metadata": {
        "id": "hXuR83Hw_n_L"
      },
      "execution_count": null,
      "outputs": []
    },
    {
      "cell_type": "code",
      "source": [],
      "metadata": {
        "id": "nBWb2ZJC_tgB"
      },
      "execution_count": null,
      "outputs": []
    },
    {
      "cell_type": "code",
      "source": [
        "# Scenario low\n",
        "\n",
        "pybamm.set_logging_level(\"NOTICE\")\n",
        "\n",
        "T_ambs = [-5,5,15]\n",
        "\n",
        "# Number of cycles per temperature setting\n",
        "N_cycles_per_param = 500\n",
        "# Done to reduce RAM usage, clears RAM after every slice of N cycles\n",
        "cycles_per_slice = 40\n",
        "\n",
        "# C-rates\n",
        "charging_C_rate = 1\n",
        "discharging_C_rate = 0.3\n",
        "\n",
        "# Which initial SoC's to cycle between\n",
        "lower_SoC = 0.3\n",
        "upper_SoC = 0.6\n",
        "\n",
        "# Setting submodel options:\n",
        "li_plt_options = {\n",
        "        \"SEI\": \"solvent-diffusion limited\",\n",
        "        \"SEI porosity change\": \"true\",\n",
        "        \"lithium plating\": \"partially reversible\",\n",
        "        \"lithium plating porosity change\": \"true\",  # alias for \"SEI porosity change\"\n",
        "    }\n",
        "\n",
        "\n"
      ],
      "metadata": {
        "id": "Bbx6HRaV_vFB"
      },
      "execution_count": null,
      "outputs": []
    },
    {
      "cell_type": "code",
      "source": [
        "solver = pybamm.CasadiSolver(atol = 1e-6, rtol = 1e-6, mode=\"safe\", dt_max=6)"
      ],
      "metadata": {
        "id": "H0sGMu0B_xRG"
      },
      "execution_count": null,
      "outputs": []
    },
    {
      "cell_type": "code",
      "source": [
        "# Making the mesh finer to avoid Solver Errors\n",
        "var_pts = {\n",
        "    \"x_n\": 50,  # negative electrode\n",
        "    \"x_s\": 50,  # separator\n",
        "    \"x_p\": 50,  # positive electrode\n",
        "    \"r_n\": 50,  # negative particle\n",
        "    \"r_p\": 50,  # positive particle\n",
        "}"
      ],
      "metadata": {
        "id": "K1jWSL3w_0cP"
      },
      "execution_count": null,
      "outputs": []
    },
    {
      "cell_type": "code",
      "source": [
        "# Running an experiment to get the initial battery cell capacity\n",
        "\n",
        "mapping_experiment = pybamm.Experiment([\n",
        "    (\"Rest for 1 minute\")\n",
        "])"
      ],
      "metadata": {
        "id": "egkWzy4Y_1EI"
      },
      "execution_count": null,
      "outputs": []
    },
    {
      "cell_type": "code",
      "source": [
        "# extracting initial capacity of a fresh LiB cell by solving\n",
        "# the model and reading the \"Capacity [A.h]\" summery variable\n",
        "SPMe = pybamm.lithium_ion.SPMe()\n",
        "mapping_sim = pybamm.Simulation(SPMe, parameter_values=prada2013_params, solver=solver, experiment=mapping_experiment, var_pts=var_pts)\n",
        "# Start at 0.3 SoC to avoid minimu/maximum voltage error\n",
        "mapping_sol = mapping_sim.solve(initial_soc=lower_SoC)\n",
        "mapping_solution = mapping_sim.solution\n",
        "initial_cap = mapping_solution.summary_variables[\"Capacity [A.h]\"][0] #Ah"
      ],
      "metadata": {
        "id": "mzFdKcNe_4F2"
      },
      "execution_count": null,
      "outputs": []
    },
    {
      "cell_type": "code",
      "source": [
        "def sim_N_cycles_individually(N_cycles, N_per_slice, solution, lower_SoC, upper_SoC, options, params, solver, var_pts, C_charge, C_discharge):\n",
        "    sim_stopped_progression = False\n",
        "    # cycling through every cycle one by one\n",
        "    for cycle_N in range(1, N_cycles + 1):\n",
        "        #optaining remaining capacity\n",
        "        remaining_cap = solution.summary_variables[\"Capacity [A.h]\"][-1]\n",
        "        # play if measured capacity and capacity\n",
        "        initial_lower_Q = lower_SoC * remaining_cap # Ah\n",
        "        initial_upper_Q = upper_SoC * remaining_cap # Ah\n",
        "        charging_current = C_charge * remaining_cap # A\n",
        "        discharging_current = C_discharge * remaining_cap # A\n",
        "        charge_time = (initial_upper_Q - initial_lower_Q)/charging_current # h\n",
        "        discharge_time = (initial_upper_Q - initial_lower_Q)/discharging_current # h\n",
        "\n",
        "        # defining experiment, model and simulation\n",
        "        experiment_N_1 = pybamm.Experiment([\n",
        "            (f\"Charge at {charging_current} A for {charge_time} hours\",\n",
        "             f\"Discharge at {discharging_current} A for {discharge_time} hours\")\n",
        "        ])\n",
        "\n",
        "        SPMe = pybamm.lithium_ion.SPMe(options=options)\n",
        "        sim = pybamm.Simulation(SPMe, parameter_values=prada2013_params, solver = solver, experiment=experiment_N_1, var_pts = var_pts)\n",
        "\n",
        "        if cycle_N == 1:\n",
        "            # solving sim, first cycle starting on lower SoC\n",
        "            sol = sim.solve(initial_soc=lower_SoC, save_at_cycles = 5)\n",
        "            try:\n",
        "                len(sol.cycles)\n",
        "            except AttributeError:\n",
        "                raise Exception (\"The first cycle did not complete\")\n",
        "        else:\n",
        "          # solving sim, startin on sol\n",
        "          sol = sim.solve(starting_solution = sol, save_at_cycles = 5)\n",
        "        # obtaining infor for startin point for next cycle\n",
        "        solution = sim.solution\n",
        "\n",
        "        #check if last cycle were successfully solved\n",
        "        if len(sol.cycles) != cycle_N:\n",
        "            sim_stopped_progression = True\n",
        "\n",
        "\n",
        "        if cycle_N%N_per_slice == 0 or sim_stopped_progression == True:\n",
        "            if sim_stopped_progression:\n",
        "                return [solution,sol]\n",
        "    return [solution, sol]"
      ],
      "metadata": {
        "id": "pui6XzmP_4lk"
      },
      "execution_count": null,
      "outputs": []
    },
    {
      "cell_type": "code",
      "source": [
        "# SIM start, one for each parameter value\n",
        "solutions_30_60 = {}\n",
        "for T_amb in T_ambs:\n",
        "    #updating the param which is investigated\n",
        "    prada2013_params.update({\"Ambient temperature [K]\": 273.15 + T_amb})\n",
        "    conductSim = sim_N_cycles_individually(N_cycles = N_cycles_per_param, N_per_slice = cycles_per_slice, solution = mapping_solution, lower_SoC = lower_SoC, upper_SoC = upper_SoC, options = li_plt_options, params = prada2013_params, solver = solver, var_pts = var_pts, C_charge = charging_C_rate, C_discharge = discharging_C_rate)\n",
        "    solutions_30_60[T_amb] = conductSim\n",
        "    # Saving specified data\n",
        "    #save_data_to_csv(N_per_slice = cycles_per_slice, solution = conductSim[0], file_name_add_on = str(T_amb))\n",
        "    #solutions_30_60[T_amb][0].save(f\"solutions_30_60_solution_{T_amb}.pkl\")\n",
        "    solutions_30_60[T_amb][1].save(f\"solutions_30_60_sol_{T_amb}.pkl\")\n"
      ],
      "metadata": {
        "id": "hKAT4NrR_6j4"
      },
      "execution_count": null,
      "outputs": []
    }
  ]
}