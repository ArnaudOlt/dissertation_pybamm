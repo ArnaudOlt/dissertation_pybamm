{
  "nbformat": 4,
  "nbformat_minor": 0,
  "metadata": {
    "colab": {
      "provenance": [],
      "authorship_tag": "ABX9TyOytPFCpztkrNrp3tlclDyV",
      "include_colab_link": true
    },
    "kernelspec": {
      "name": "python3",
      "display_name": "Python 3"
    },
    "language_info": {
      "name": "python"
    }
  },
  "cells": [
    {
      "cell_type": "markdown",
      "metadata": {
        "id": "view-in-github",
        "colab_type": "text"
      },
      "source": [
        "<a href=\"https://colab.research.google.com/github/ArnaudOlt/dissertation_pybamm/blob/main/5_2_load_plot_SOC.ipynb\" target=\"_parent\"><img src=\"https://colab.research.google.com/assets/colab-badge.svg\" alt=\"Open In Colab\"/></a>"
      ]
    },
    {
      "cell_type": "code",
      "execution_count": null,
      "metadata": {
        "id": "mcW-aESKB4vK"
      },
      "outputs": [],
      "source": [
        "%pip install pybtex\n",
        "%pip install anytree\n",
        "%pip install autograd\n",
        "%pip install bpx\n",
        "%pip install casadi\n",
        "%pip install imageio\n",
        "%pip install importlib-metadata\n",
        "%pip install matplotlib\n",
        "%pip install numpy\n",
        "%pip install pandas\n",
        "%pip install scikit-fem\n",
        "%pip install scipy\n",
        "%pip install sympy\n",
        "%pip install tqdm\n",
        "%pip install xarray\n",
        "%pip install git+https://github.com/pybamm-team/pybamm.git@develop\n",
        "import pybamm\n",
        "import numpy as np\n",
        "import matplotlib.pyplot as plt\n",
        "import pandas as pd"
      ]
    },
    {
      "cell_type": "code",
      "source": [
        "T_ambs = [-5, 5,15]\n",
        "solutions_30_60 = {}\n",
        "\n",
        "\n",
        "for T_amb in T_ambs:\n",
        "    solutions_30_60[T_amb] = [pybamm.load(f\"solutions_30_60_sol_{T_amb}.pkl\")]\n",
        "    print(T_amb)\n"
      ],
      "metadata": {
        "id": "cBigzfD6CBtn"
      },
      "execution_count": null,
      "outputs": []
    },
    {
      "cell_type": "code",
      "source": [
        "# Save solutions 30_60 into CSV files\n",
        "\n",
        "for i, (temp, sol_list) in enumerate(solutions_30_60.items()):\n",
        "    sol = sol_list[0]\n",
        "    # Extract variables of interest (e.g., x_sol and y_sol)\n",
        "    x_sol = sol.summary_variables[\"Cycle number\"]\n",
        "    y_sol = sol.summary_variables[\"Measured capacity [A.h]\"]\n",
        "\n",
        "    # Create a DataFrame\n",
        "    data = pd.DataFrame({\"Cycle number\": x_sol, \"Measured capacity [A.h]\": y_sol})\n",
        "    # Save data to CSV file\n",
        "    data.to_csv(f\"xy_sol_30_60_temp_{temp}_C.csv\", index=False)"
      ],
      "metadata": {
        "id": "fm--em6KCMmw"
      },
      "execution_count": null,
      "outputs": []
    },
    {
      "cell_type": "code",
      "source": [
        "# Load solutions at T_ambs\n",
        "T_ambs = [15]\n",
        "solutions_70_99 = {}\n",
        "\n",
        "# Iterate through temperature scenarios\n",
        "for T_amb in T_ambs:\n",
        "    solutions_70_99[T_amb] = [pybamm.load(f\"solutions_70_99_sol_{T_amb}.pkl\")]\n",
        "    print(T_amb)\n",
        "\n"
      ],
      "metadata": {
        "id": "X17_zt9eCOxR"
      },
      "execution_count": null,
      "outputs": []
    },
    {
      "cell_type": "code",
      "source": [
        "# Save solutions 70_99 into CSV files\n",
        "\n",
        "for i, (temp, sol_list) in enumerate(solutions_70_99.items()):\n",
        "    sol = sol_list[0]\n",
        "    # Extract variables of interest (e.g., x_sol and y_sol)\n",
        "    x_sol = sol.summary_variables[\"Cycle number\"]\n",
        "    y_sol = sol.summary_variables[\"Measured capacity [A.h]\"]\n",
        "    # Create a DataFrame\n",
        "    data = pd.DataFrame({\"Cycle number\": x_sol, \"Measured capacity [A.h]\": y_sol})\n",
        "    # Save data to CSV file\n",
        "    data.to_csv(f\"xy_sol_70_99_temp_{temp}_C.csv\", index=False)"
      ],
      "metadata": {
        "id": "AuVRpgBkCRZQ"
      },
      "execution_count": null,
      "outputs": []
    },
    {
      "cell_type": "code",
      "source": [
        "from labellines import labelLines\n",
        "\n",
        "line_colors = [\"lightblue\", \"coral\",\"crimson\",\"steelblue\", \"lightblue\", \"coral\"]\n",
        "T_ambs = [-5, 5, 15]\n",
        "# Initialize the plot\n",
        "fig, ax = plt.subplots(figsize=(8, 6))\n",
        "#plt.rcParams.update({'font.size': 12})\n",
        "# Iterate through temperature scenarios\n",
        "for i, temp in enumerate(T_ambs):\n",
        "    # Load data from CSV file\n",
        "    data = pd.read_csv(f\"xy_sol_30_60_temp_{temp}_C.csv\")\n",
        "    x_sol = data[\"Cycle number\"]\n",
        "    y_sol = data[\"Measured capacity [A.h]\"]\n",
        "\n",
        "    color = line_colors[i % len(line_colors)]  # Cycle through colors if needed\n",
        "\n",
        "    ax.plot(\n",
        "            x_sol,\n",
        "            ((y_sol[0] - y_sol) / y_sol[0]) * 100,\n",
        "            label=\"Temperature = \" + str(temp) + \" °C\" + \" - SoC window: 30% - 60%\",\n",
        "            color=color,\n",
        "            linestyle=\"-\"\n",
        "        )\n",
        "\n",
        "    # Load data from CSV file\n",
        "    data = pd.read_csv(f\"xy_sol_70_99_temp_{temp}_C.csv\")\n",
        "    x_sol = data[\"Cycle number\"]\n",
        "    y_sol = data[\"Measured capacity [A.h]\"]\n",
        "\n",
        "    color = line_colors[i % len(line_colors)]  # Cycle through colors if needed\n",
        "\n",
        "    ax.plot(\n",
        "            x_sol,\n",
        "            ((y_sol[0] - y_sol) / y_sol[0]) * 100,\n",
        "            label=\"Temperature = \" + str(temp) + \" °C\" + \" - SoC window: 70% - 100%\",\n",
        "            color=color,\n",
        "            linestyle=\"--\",\n",
        "        )\n",
        "\n",
        "\n",
        "# reordering the labels\n",
        "handles, labels = plt.gca().get_legend_handles_labels()\n",
        "\n",
        "# specify order\n",
        "order = [1,3,5,0,2,4,]\n",
        "\n",
        "# pass handle & labels lists along with order as below\n",
        "ax.legend([handles[i] for i in order], [labels[i] for i in order], fontsize=10)\n",
        "\n",
        "\n",
        "ax.set_xlabel(\"Cycle number\", fontsize=14)\n",
        "ax.set_ylabel(\"Capacity loss [%]\", fontsize=14)\n",
        "plt.xticks(fontsize=14)\n",
        "plt.yticks(fontsize=14)\n",
        "\n",
        "plt.tight_layout()\n",
        "\n",
        "plt.show()"
      ],
      "metadata": {
        "id": "HnVEzeZ-Cb5D"
      },
      "execution_count": null,
      "outputs": []
    }
  ]
}