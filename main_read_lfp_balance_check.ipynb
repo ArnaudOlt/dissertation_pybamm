{
  "cells": [
    {
      "cell_type": "markdown",
      "metadata": {
        "colab_type": "text",
        "id": "view-in-github"
      },
      "source": [
        "<a href=\"https://colab.research.google.com/github/ArnaudOlt/dissertation_pybamm/blob/main/main_read_lfp_balance_check.ipynb\" target=\"_parent\"><img src=\"https://colab.research.google.com/assets/colab-badge.svg\" alt=\"Open In Colab\"/></a>"
      ]
    },
    {
      "cell_type": "code",
      "execution_count": 1,
      "metadata": {
        "colab": {
          "base_uri": "https://localhost:8080/"
        },
        "id": "sv6Hp83O-87P",
        "outputId": "5b078aee-2582-4139-cff6-9c57596c8077"
      },
      "outputs": [
        {
          "name": "stdout",
          "output_type": "stream",
          "text": [
            "Collecting pybamm\n",
            "  Downloading pybamm-23.5-cp310-cp310-manylinux_2_17_x86_64.manylinux2014_x86_64.whl (15.9 MB)\n",
            "\u001b[2K     \u001b[90m━━━━━━━━━━━━━━━━━━━━━━━━━━━━━━━━━━━━━━━━\u001b[0m \u001b[32m15.9/15.9 MB\u001b[0m \u001b[31m29.2 MB/s\u001b[0m eta \u001b[36m0:00:00\u001b[0m\n",
            "\u001b[?25hRequirement already satisfied: numpy>=1.16 in /usr/local/lib/python3.10/dist-packages (from pybamm) (1.23.5)\n",
            "Requirement already satisfied: scipy>=1.3 in /usr/local/lib/python3.10/dist-packages (from pybamm) (1.10.1)\n",
            "Requirement already satisfied: pandas>=0.24 in /usr/local/lib/python3.10/dist-packages (from pybamm) (1.5.3)\n",
            "Collecting anytree>=2.4.3 (from pybamm)\n",
            "  Downloading anytree-2.9.0-py3-none-any.whl (38 kB)\n",
            "Requirement already satisfied: autograd>=1.2 in /usr/local/lib/python3.10/dist-packages (from pybamm) (1.6.2)\n",
            "Collecting scikit-fem>=0.2.0 (from pybamm)\n",
            "  Downloading scikit_fem-8.1.0-py3-none-any.whl (160 kB)\n",
            "\u001b[2K     \u001b[90m━━━━━━━━━━━━━━━━━━━━━━━━━━━━━━━━━━━━━━\u001b[0m \u001b[32m160.1/160.1 kB\u001b[0m \u001b[31m13.2 MB/s\u001b[0m eta \u001b[36m0:00:00\u001b[0m\n",
            "\u001b[?25hCollecting casadi>=3.6.0 (from pybamm)\n",
            "  Downloading casadi-3.6.3-cp310-none-manylinux2014_x86_64.whl (67.5 MB)\n",
            "\u001b[2K     \u001b[90m━━━━━━━━━━━━━━━━━━━━━━━━━━━━━━━━━━━━━━━━\u001b[0m \u001b[32m67.5/67.5 MB\u001b[0m \u001b[31m11.1 MB/s\u001b[0m eta \u001b[36m0:00:00\u001b[0m\n",
            "\u001b[?25hRequirement already satisfied: imageio>=2.9.0 in /usr/local/lib/python3.10/dist-packages (from pybamm) (2.25.1)\n",
            "Requirement already satisfied: importlib-metadata in /usr/lib/python3/dist-packages (from pybamm) (4.6.4)\n",
            "Collecting pybtex>=0.24.0 (from pybamm)\n",
            "  Downloading pybtex-0.24.0-py2.py3-none-any.whl (561 kB)\n",
            "\u001b[2K     \u001b[90m━━━━━━━━━━━━━━━━━━━━━━━━━━━━━━━━━━━━━━\u001b[0m \u001b[32m561.4/561.4 kB\u001b[0m \u001b[31m22.9 MB/s\u001b[0m eta \u001b[36m0:00:00\u001b[0m\n",
            "\u001b[?25hRequirement already satisfied: sympy>=1.8 in /usr/local/lib/python3.10/dist-packages (from pybamm) (1.11.1)\n",
            "Requirement already satisfied: xarray in /usr/local/lib/python3.10/dist-packages (from pybamm) (2022.12.0)\n",
            "Collecting bpx (from pybamm)\n",
            "  Downloading bpx-0.3.1-py2.py3-none-any.whl (8.4 kB)\n",
            "Requirement already satisfied: tqdm in /usr/local/lib/python3.10/dist-packages (from pybamm) (4.65.0)\n",
            "Requirement already satisfied: matplotlib>=2.0 in /usr/local/lib/python3.10/dist-packages (from pybamm) (3.7.1)\n",
            "Requirement already satisfied: six in /usr/local/lib/python3.10/dist-packages (from anytree>=2.4.3->pybamm) (1.16.0)\n",
            "Requirement already satisfied: future>=0.15.2 in /usr/local/lib/python3.10/dist-packages (from autograd>=1.2->pybamm) (0.18.3)\n",
            "Requirement already satisfied: pillow>=8.3.2 in /usr/local/lib/python3.10/dist-packages (from imageio>=2.9.0->pybamm) (9.4.0)\n",
            "Requirement already satisfied: contourpy>=1.0.1 in /usr/local/lib/python3.10/dist-packages (from matplotlib>=2.0->pybamm) (1.1.0)\n",
            "Requirement already satisfied: cycler>=0.10 in /usr/local/lib/python3.10/dist-packages (from matplotlib>=2.0->pybamm) (0.11.0)\n",
            "Requirement already satisfied: fonttools>=4.22.0 in /usr/local/lib/python3.10/dist-packages (from matplotlib>=2.0->pybamm) (4.42.0)\n",
            "Requirement already satisfied: kiwisolver>=1.0.1 in /usr/local/lib/python3.10/dist-packages (from matplotlib>=2.0->pybamm) (1.4.4)\n",
            "Requirement already satisfied: packaging>=20.0 in /usr/local/lib/python3.10/dist-packages (from matplotlib>=2.0->pybamm) (23.1)\n",
            "Requirement already satisfied: pyparsing>=2.3.1 in /usr/local/lib/python3.10/dist-packages (from matplotlib>=2.0->pybamm) (3.1.1)\n",
            "Requirement already satisfied: python-dateutil>=2.7 in /usr/local/lib/python3.10/dist-packages (from matplotlib>=2.0->pybamm) (2.8.2)\n",
            "Requirement already satisfied: pytz>=2020.1 in /usr/local/lib/python3.10/dist-packages (from pandas>=0.24->pybamm) (2022.7.1)\n",
            "Requirement already satisfied: PyYAML>=3.01 in /usr/local/lib/python3.10/dist-packages (from pybtex>=0.24.0->pybamm) (6.0.1)\n",
            "Collecting latexcodec>=1.0.4 (from pybtex>=0.24.0->pybamm)\n",
            "  Downloading latexcodec-2.0.1-py2.py3-none-any.whl (18 kB)\n",
            "Requirement already satisfied: mpmath>=0.19 in /usr/local/lib/python3.10/dist-packages (from sympy>=1.8->pybamm) (1.3.0)\n",
            "Requirement already satisfied: pydantic<2 in /usr/local/lib/python3.10/dist-packages (from bpx->pybamm) (1.10.12)\n",
            "Requirement already satisfied: typing-extensions>=4.2.0 in /usr/local/lib/python3.10/dist-packages (from pydantic<2->bpx->pybamm) (4.7.1)\n",
            "Installing collected packages: latexcodec, casadi, anytree, scikit-fem, pybtex, bpx, pybamm\n",
            "Successfully installed anytree-2.9.0 bpx-0.3.1 casadi-3.6.3 latexcodec-2.0.1 pybamm-23.5 pybtex-0.24.0 scikit-fem-8.1.0\n"
          ]
        }
      ],
      "source": [
        "import pybamm\n",
        "import time\n",
        "import numpy as np"
      ]
    },
    {
      "cell_type": "code",
      "execution_count": 8,
      "metadata": {
        "id": "atg43TsB_Q-8"
      },
      "outputs": [],
      "source": [
        "model = pybamm.lithium_ion.SPMe(\n",
        "    {\n",
        "        #\"SEI\": \"solvent-diffusion limited\",\n",
        "        #\"SEI porosity change\": \"true\",\n",
        "        \"lithium plating\": \"partially reversible\",\n",
        "        \"lithium plating porosity change\": \"true\",  # alias for \"SEI porosity change\"\n",
        "        #\"particle mechanics\": (\"swelling and cracking\", \"swelling only\"),\n",
        "        #\"SEI on cracks\": \"true\",\n",
        "        #\"loss of active material\": \"stress-driven\",\n",
        "        #\"calculate discharge energy\": \"true\",  # for compatibility with older PyBaMM versions\n",
        "    }\n",
        ")"
      ]
    },
    {
      "cell_type": "code",
      "execution_count": 2,
      "metadata": {
        "id": "O_wxxXAC_Bnr"
      },
      "outputs": [],
      "source": [
        "parameter_values = pybamm.ParameterValues(\"OKane2022\")"
      ]
    },
    {
      "cell_type": "code",
      "execution_count": 3,
      "metadata": {
        "id": "f42jrhI__DUY"
      },
      "outputs": [],
      "source": [
        "# update parameters towards LFP cell\n",
        "\n",
        "\n",
        "def LFP_ocp_ashfar2017(sto):\n",
        "    \"\"\"\n",
        "    Open-circuit potential for LFP\n",
        "\n",
        "    References\n",
        "    ----------\n",
        "    .. [1] Afshar, S., Morris, K., & Khajepour, A. (2017). Efficient electrochemical\n",
        "    model for lithium-ion cells. arXiv preprint arXiv:1709.03970.\n",
        "\n",
        "    Parameters\n",
        "    ----------\n",
        "    sto : :class:`pybamm.Symbol`\n",
        "       Stochiometry of material (li-fraction)\n",
        "\n",
        "    \"\"\"\n",
        "\n",
        "    c1 = -150 * sto\n",
        "    c2 = -30 * (1 - sto)\n",
        "    k = 3.4077 - 0.020269 * sto + 0.5 * pybamm.exp(c1) - 0.9 * pybamm.exp(c2)\n",
        "\n",
        "    return k\n",
        "\n",
        "def LFP_electrolyte_exchange_current_density_kashkooli2017(c_e, c_s_surf, c_s_max, T):\n",
        "    \"\"\"\n",
        "    Exchange-current density for Butler-Volmer reactions between LFP and electrolyte\n",
        "\n",
        "    References\n",
        "    ----------\n",
        "    .. [1] Kashkooli, A. G., Amirfazli, A., Farhad, S., Lee, D. U., Felicelli, S., Park,\n",
        "    H. W., ... & Chen, Z. (2017). Representative volume element model of lithium-ion\n",
        "    battery electrodes based on X-ray nano-tomography. Journal of Applied\n",
        "    Electrochemistry, 47(3), 281-293.\n",
        "\n",
        "    Parameters\n",
        "    ----------\n",
        "    c_e : :class:`pybamm.Symbol`\n",
        "        Electrolyte concentration [mol.m-3]\n",
        "    c_s_surf : :class:`pybamm.Symbol`\n",
        "        Particle concentration [mol.m-3]\n",
        "    c_s_max : :class:`pybamm.Symbol`\n",
        "        Maximum particle concentration [mol.m-3]\n",
        "    T : :class:`pybamm.Symbol`\n",
        "        Temperature [K]\n",
        "\n",
        "    Returns\n",
        "    -------\n",
        "    :class:`pybamm.Symbol`\n",
        "        Exchange-current density [A.m-2]\n",
        "    \"\"\"\n",
        "\n",
        "    m_ref = 6 * 10 ** (-7)  # (A/m2)(m3/mol)**1.5 - includes ref concentrations\n",
        "    E_r = 39570\n",
        "    arrhenius = pybamm.exp(E_r / pybamm.constants.R * (1 / 298.15 - 1 / T))\n",
        "\n",
        "    return (\n",
        "        m_ref * arrhenius * c_e**0.5 * c_s_surf**0.5 * (c_s_max - c_s_surf) ** 0.5\n",
        "    )\n",
        "\n",
        "parameter_values.update({\n",
        "        \"Positive electrode conductivity [S.m-1]\": 0.33795074,\n",
        "        \"Maximum concentration in positive electrode [mol.m-3]\": 22806.0,\n",
        "        \"Positive electrode diffusivity [m2.s-1]\": 5.9e-18,\n",
        "        \"Positive electrode OCP [V]\": LFP_ocp_ashfar2017,\n",
        "        \"Positive electrode porosity\": 0.12728395,\n",
        "        \"Positive electrode active material volume fraction\": 0.28485556,\n",
        "        \"Positive particle radius [m]\": 1e-08,\n",
        "        \"Positive electrode Bruggeman coefficient (electrode)\": 1.5,\n",
        "        \"Positive electrode Bruggeman coefficient (electrolyte)\": 1.5,\n",
        "        \"Positive electrode charge transfer coefficient\": 0.5,\n",
        "        \"Positive electrode double-layer capacity [F.m-2]\": 0.2,\n",
        "        \"Positive electrode density [kg.m-3]\": 2341.17,\n",
        "        \"Positive electrode specific heat capacity [J.kg-1.K-1]\": 1100.0,\n",
        "        \"Positive electrode thermal conductivity [W.m-1.K-1]\": 2.1,\n",
        "        \"Positive electrode OCP entropic change [V.K-1]\": 0.0,\n",
        "        \"Positive electrode exchange-current density [A.m-2]\"\n",
        "        \"\": LFP_electrolyte_exchange_current_density_kashkooli2017,\n",
        "        \"Initial concentration in positive electrode [mol.m-3]\": 35.3766672,\n",
        "        \"Lower voltage cut-off [V]\": 2.0,\n",
        "        \"Upper voltage cut-off [V]\": 4.4,\n",
        "        \"Open-circuit voltage at 0% SOC [V]\": 2.0,\n",
        "        \"Open-circuit voltage at 100% SOC [V]\": 4.4}, check_already_exists=False) # prada2013\n",
        "\n"
      ]
    },
    {
      "cell_type": "code",
      "execution_count": 6,
      "metadata": {
        "id": "-LQekOOC_FAZ"
      },
      "outputs": [],
      "source": [
        "pybamm.set_logging_level(\"NOTICE\")\n",
        "cycle_number = 500\n",
        "exp = pybamm.Experiment(\n",
        "    [\"Hold at 3.8 V until C/20\", # Changed to 3.8V\n",
        "    \"Rest for 4 hours\",\n",
        "    \"Discharge at 0.1C until 2.4 V\",  # initial capacity check\n",
        "    \"Charge at 0.3C until 3.8 V\",\n",
        "    \"Hold at 3.8 V until C/20\",]\n",
        "    + [(\"Discharge at 1C until 2.4 V\",  # ageing cycles\n",
        "    \"Charge at 0.3C until 3.8 V\",\n",
        "    \"Hold at 3.8 V until C/20\",)] * cycle_number\n",
        "    + [\"Discharge at 0.1C until 2.4 V\"],  # final capacity check\n",
        "    period=\"5 minutes\"\n",
        ")\n"
      ]
    },
    {
      "cell_type": "code",
      "execution_count": 9,
      "metadata": {
        "colab": {
          "base_uri": "https://localhost:8080/"
        },
        "id": "4aTKtF3H_GiI",
        "outputId": "db1dc626-e0a9-4168-d83e-8b040c604f82"
      },
      "outputs": [
        {
          "name": "stderr",
          "output_type": "stream",
          "text": [
            "2023-08-09 11:09:59.952 - [NOTICE] callbacks.on_cycle_start(172): Cycle 1/56 (1.761 ms elapsed) --------------------\n",
            "NOTICE:pybamm.logger:Cycle 1/56 (1.761 ms elapsed) --------------------\n",
            "2023-08-09 11:09:59.964 - [NOTICE] callbacks.on_step_start(180): Cycle 1/56, step 1/1: Hold at 4.2 V until C/100\n",
            "NOTICE:pybamm.logger:Cycle 1/56, step 1/1: Hold at 4.2 V until C/100\n",
            "2023-08-09 11:10:02.798 - [NOTICE] callbacks.on_cycle_start(172): Cycle 2/56 (2.848 s elapsed) --------------------\n",
            "NOTICE:pybamm.logger:Cycle 2/56 (2.848 s elapsed) --------------------\n",
            "2023-08-09 11:10:02.807 - [NOTICE] callbacks.on_step_start(180): Cycle 2/56, step 1/1: Rest for 4 hours\n",
            "NOTICE:pybamm.logger:Cycle 2/56, step 1/1: Rest for 4 hours\n",
            "The linesearch algorithm failed with too small a step.\n",
            "2023-08-09 11:10:05.735 - [NOTICE] callbacks.on_cycle_start(172): Cycle 3/56 (5.784 s elapsed) --------------------\n",
            "NOTICE:pybamm.logger:Cycle 3/56 (5.784 s elapsed) --------------------\n",
            "2023-08-09 11:10:05.748 - [NOTICE] callbacks.on_step_start(180): Cycle 3/56, step 1/1: Discharge at 0.1C until 2.5 V\n",
            "NOTICE:pybamm.logger:Cycle 3/56, step 1/1: Discharge at 0.1C until 2.5 V\n",
            "2023-08-09 11:10:07.681 - [NOTICE] callbacks.on_cycle_start(172): Cycle 4/56 (7.731 s elapsed) --------------------\n",
            "NOTICE:pybamm.logger:Cycle 4/56 (7.731 s elapsed) --------------------\n",
            "2023-08-09 11:10:07.688 - [NOTICE] callbacks.on_step_start(180): Cycle 4/56, step 1/1: Charge at 0.3C until 4.2 V\n",
            "NOTICE:pybamm.logger:Cycle 4/56, step 1/1: Charge at 0.3C until 4.2 V\n",
            "The linesearch algorithm failed with too small a step.\n",
            "The linesearch algorithm failed with too small a step.\n",
            "The linesearch algorithm failed with too small a step.\n",
            "At t = 0.453043 and h = 7.10959e-15, the corrector convergence failed repeatedly or with |h| = hmin.\n",
            "At t = 0.453043 and h = 5.7189e-14, the corrector convergence failed repeatedly or with |h| = hmin.\n",
            "At t = 0.453044 and h = 9.9938e-22, the corrector convergence failed repeatedly or with |h| = hmin.\n",
            "2023-08-09 11:10:12.435 - [ERROR] callbacks.on_experiment_error(224): Simulation error: Maximum number of decreased steps occurred at t=24562.940822311582 (final SolverError: 'Error in Function::call for 'F' [IdasInterface] at .../casadi/core/function.cpp:1401:\n",
            "Error in Function::call for 'F' [IdasInterface] at .../casadi/core/function.cpp:330:\n",
            ".../casadi/interfaces/sundials/idas_interface.cpp:596: IDASolve returned \"IDA_CONV_FAIL\". Consult IDAS documentation.'). For a full solution try reducing dt_max (currently, dt_max=9.375) and/or reducing the size of the time steps or period of the experiment. Set `return_solution_if_failed_early=True` to return the solution object up to the point where failure occured.\n",
            "ERROR:pybamm.logger:Simulation error: Maximum number of decreased steps occurred at t=24562.940822311582 (final SolverError: 'Error in Function::call for 'F' [IdasInterface] at .../casadi/core/function.cpp:1401:\n",
            "Error in Function::call for 'F' [IdasInterface] at .../casadi/core/function.cpp:330:\n",
            ".../casadi/interfaces/sundials/idas_interface.cpp:596: IDASolve returned \"IDA_CONV_FAIL\". Consult IDAS documentation.'). For a full solution try reducing dt_max (currently, dt_max=9.375) and/or reducing the size of the time steps or period of the experiment. Set `return_solution_if_failed_early=True` to return the solution object up to the point where failure occured.\n",
            "2023-08-09 11:10:12.446 - [NOTICE] callbacks.on_experiment_end(220): Finish experiment simulation, took 12.495 s\n",
            "NOTICE:pybamm.logger:Finish experiment simulation, took 12.495 s\n"
          ]
        }
      ],
      "source": [
        "sim = pybamm.Simulation(model, parameter_values=parameter_values, experiment=exp)\n",
        "\n",
        "# safe solver and reduced dt_max\n",
        "safe_solver = pybamm.CasadiSolver(mode=\"safe\", dt_max=6)\n",
        "\n",
        "# solve\n",
        "start = time.monotonic()\n",
        "sol = sim.solve(solver=safe_solver, calc_esoh=False)\n",
        "end = time.monotonic()\n",
        "print(f\"Time taken: {end - start:.2f} seconds\") # 76.51 seconds\n"
      ]
    },
    {
      "cell_type": "code",
      "execution_count": null,
      "metadata": {
        "id": "SCUK5gXS_IDZ"
      },
      "outputs": [],
      "source": []
    }
  ],
  "metadata": {
    "colab": {
      "authorship_tag": "ABX9TyOdTpD2zul71mfsn9V8clt+",
      "include_colab_link": true,
      "provenance": []
    },
    "kernelspec": {
      "display_name": "Python 3",
      "name": "python3"
    },
    "language_info": {
      "name": "python"
    }
  },
  "nbformat": 4,
  "nbformat_minor": 0
}
